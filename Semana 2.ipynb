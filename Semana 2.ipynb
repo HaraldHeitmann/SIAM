{
 "cells": [
  {
   "cell_type": "markdown",
   "metadata": {},
   "source": [
    "## Motivación:\n",
    "En esta sección, nos encargaremos de lo que se denomina *aprendizaje supervisado*, esto se refiere a que tenemos alguna cantidad de muestras y nuestros modelos aprenderán de ellas.\n",
    "Muchos problemas consisten en tratar de predecir algún valor, dadas ciertas variables.\n",
    "En el contexto de machine learning nuestra variables se llamaran ***features***, y la variable a predecir es el ***target***, en el caso que el target sea una variable continua, nos encontramos con un problema de regresión.\n",
    "\n",
    "Imaginemos tenemos datos atmosfericos de un día en la mañana, tales como presión, temperatura, viento, entre otras, y queremos predecir que temperatura habrá en la tarde.\n",
    "Lo anterior es un claro ejemplo de un problema de regresión, si además tenemos un data-set con temperaturas en la mañana y la tarde de distintos días, podremos hacer un modelo de regresión supervisado.\n",
    "## Un modelo simple:\n",
    "El modelo de regresión más sencillo es la predicción por la media, o valor esperado. en general este modelo (pobre) puede ser utilizado para comparar los modelos que entrenaremos más adelante (lo hago mejor que la predicción por el promedio, o similar, o peor?!).\n",
    "Luego esta el modelo de regresión lineal:\n",
    "\n",
    "### Regresión lineal:\n",
    "La idea principal de un modelo de regresión lineal es ajustar una recta (regresión lineal simple)o un hiperplano (regresión lineal multiple) que minimize la norma ($\\ell^2$) de los errores (residuos).\n",
    "matemáticamente queremos:\n",
    "$$\\tilde{y}=a\\dot{}x+b$$\n",
    "donde:\n",
    "* $a\\in \\mathbb{R}^n$\n",
    "* $x\\in \\mathbb{R}^n$\n",
    "* $b \\in \\mathbb{R}$\n",
    "\n",
    "tal que los coeficientes $a$ y el intercepto $b$ minimicen $$\\sum\\left(y_i-\\tilde{y}_i\\right)^2$$ para nuestro conjunto de observaciones, en palabras, buscamos la recta que minimiza el error entre nuestro valor observado y nuestro valor predicho.\n",
    "El problema anterior tiene solución explicita bajo condiciones relativamente generales, sin embargo, cabe mencionar es posible encontrar soluciones aproximadas usando técnicas de optimización, como el método del gradiente o **Steepest Descent**.\n",
    "\n",
    "### Métodos más generales:\n",
    "Existen muchos modelos estadísticos de regresión entre los que cabe mencionar regresion ridge, lasso o elastic-net, del area de machine learning, podemos encontrar modelos como las regresión forest, maquinas de soporte vectorial (también connocidas como maquinas de *vectores vectoriales*) y redes neuronales.\n",
    "\n",
    "## Hands-on:\n",
    "Para hacer modelos predictivos en python, la librería scikit-learn, que usaremos a lo largo de todo el curso, provee casi todas las herramientas necesarias, desde el encoding de nuestras *features*, hasta métricas de evaluación, incluyendo los modelos que queremos calibrar.\n",
    "Por otro lado, las herramientas están hechas de manera estadar, por lo que cambiar el modelo solo significa cambiar una linea de código!"
   ]
  },
  {
   "cell_type": "code",
   "execution_count": 1,
   "metadata": {},
   "outputs": [],
   "source": [
    "# primero carguemos las librerias para este notebook:\n",
    "import pandas as pd\n",
    "import numpy as np\n",
    "from matplotlib import pyplot as plt\n",
    "from __future__ import division\n",
    "% matplotlib inline"
   ]
  },
  {
   "cell_type": "code",
   "execution_count": 2,
   "metadata": {},
   "outputs": [
    {
     "name": "stdout",
     "output_type": "stream",
     "text": [
      "Index(['number', 'air_pressure_9am', 'air_temp_9am', 'avg_wind_direction_9am',\n",
      "       'avg_wind_speed_9am', 'max_wind_direction_9am', 'max_wind_speed_9am',\n",
      "       'rain_accumulation_9am', 'rain_duration_9am', 'relative_humidity_9am',\n",
      "       'relative_humidity_3pm'],\n",
      "      dtype='object')\n"
     ]
    },
    {
     "data": {
      "text/html": [
       "<div>\n",
       "<style>\n",
       "    .dataframe thead tr:only-child th {\n",
       "        text-align: right;\n",
       "    }\n",
       "\n",
       "    .dataframe thead th {\n",
       "        text-align: left;\n",
       "    }\n",
       "\n",
       "    .dataframe tbody tr th {\n",
       "        vertical-align: top;\n",
       "    }\n",
       "</style>\n",
       "<table border=\"1\" class=\"dataframe\">\n",
       "  <thead>\n",
       "    <tr style=\"text-align: right;\">\n",
       "      <th></th>\n",
       "      <th>number</th>\n",
       "      <th>air_pressure_9am</th>\n",
       "      <th>air_temp_9am</th>\n",
       "      <th>avg_wind_direction_9am</th>\n",
       "      <th>avg_wind_speed_9am</th>\n",
       "      <th>max_wind_direction_9am</th>\n",
       "      <th>max_wind_speed_9am</th>\n",
       "      <th>rain_accumulation_9am</th>\n",
       "      <th>rain_duration_9am</th>\n",
       "      <th>relative_humidity_9am</th>\n",
       "      <th>relative_humidity_3pm</th>\n",
       "    </tr>\n",
       "  </thead>\n",
       "  <tbody>\n",
       "    <tr>\n",
       "      <th>0</th>\n",
       "      <td>0</td>\n",
       "      <td>918.060000</td>\n",
       "      <td>74.822000</td>\n",
       "      <td>271.100000</td>\n",
       "      <td>2.080354</td>\n",
       "      <td>295.400000</td>\n",
       "      <td>2.863283</td>\n",
       "      <td>0.0</td>\n",
       "      <td>0.0</td>\n",
       "      <td>42.420000</td>\n",
       "      <td>36.160000</td>\n",
       "    </tr>\n",
       "    <tr>\n",
       "      <th>1</th>\n",
       "      <td>1</td>\n",
       "      <td>917.347688</td>\n",
       "      <td>71.403843</td>\n",
       "      <td>101.935179</td>\n",
       "      <td>2.443009</td>\n",
       "      <td>140.471548</td>\n",
       "      <td>3.533324</td>\n",
       "      <td>0.0</td>\n",
       "      <td>0.0</td>\n",
       "      <td>24.328697</td>\n",
       "      <td>19.426597</td>\n",
       "    </tr>\n",
       "    <tr>\n",
       "      <th>2</th>\n",
       "      <td>2</td>\n",
       "      <td>923.040000</td>\n",
       "      <td>60.638000</td>\n",
       "      <td>51.000000</td>\n",
       "      <td>17.067852</td>\n",
       "      <td>63.700000</td>\n",
       "      <td>22.100967</td>\n",
       "      <td>0.0</td>\n",
       "      <td>20.0</td>\n",
       "      <td>8.900000</td>\n",
       "      <td>14.460000</td>\n",
       "    </tr>\n",
       "    <tr>\n",
       "      <th>3</th>\n",
       "      <td>3</td>\n",
       "      <td>920.502751</td>\n",
       "      <td>70.138895</td>\n",
       "      <td>198.832133</td>\n",
       "      <td>4.337363</td>\n",
       "      <td>211.203341</td>\n",
       "      <td>5.190045</td>\n",
       "      <td>0.0</td>\n",
       "      <td>0.0</td>\n",
       "      <td>12.189102</td>\n",
       "      <td>12.742547</td>\n",
       "    </tr>\n",
       "    <tr>\n",
       "      <th>4</th>\n",
       "      <td>4</td>\n",
       "      <td>921.160000</td>\n",
       "      <td>44.294000</td>\n",
       "      <td>277.800000</td>\n",
       "      <td>1.856660</td>\n",
       "      <td>136.500000</td>\n",
       "      <td>2.863283</td>\n",
       "      <td>8.9</td>\n",
       "      <td>14730.0</td>\n",
       "      <td>92.410000</td>\n",
       "      <td>76.740000</td>\n",
       "    </tr>\n",
       "  </tbody>\n",
       "</table>\n",
       "</div>"
      ],
      "text/plain": [
       "   number  air_pressure_9am  air_temp_9am  avg_wind_direction_9am  \\\n",
       "0       0        918.060000     74.822000              271.100000   \n",
       "1       1        917.347688     71.403843              101.935179   \n",
       "2       2        923.040000     60.638000               51.000000   \n",
       "3       3        920.502751     70.138895              198.832133   \n",
       "4       4        921.160000     44.294000              277.800000   \n",
       "\n",
       "   avg_wind_speed_9am  max_wind_direction_9am  max_wind_speed_9am  \\\n",
       "0            2.080354              295.400000            2.863283   \n",
       "1            2.443009              140.471548            3.533324   \n",
       "2           17.067852               63.700000           22.100967   \n",
       "3            4.337363              211.203341            5.190045   \n",
       "4            1.856660              136.500000            2.863283   \n",
       "\n",
       "   rain_accumulation_9am  rain_duration_9am  relative_humidity_9am  \\\n",
       "0                    0.0                0.0              42.420000   \n",
       "1                    0.0                0.0              24.328697   \n",
       "2                    0.0               20.0               8.900000   \n",
       "3                    0.0                0.0              12.189102   \n",
       "4                    8.9            14730.0              92.410000   \n",
       "\n",
       "   relative_humidity_3pm  \n",
       "0              36.160000  \n",
       "1              19.426597  \n",
       "2              14.460000  \n",
       "3              12.742547  \n",
       "4              76.740000  "
      ]
     },
     "execution_count": 2,
     "metadata": {},
     "output_type": "execute_result"
    }
   ],
   "source": [
    "### ahora carguemos los datos!\n",
    "df = pd.read_csv('data_1.csv')\n",
    "### ahora no nos preocuparemos por la data faltante...\n",
    "df.dropna(inplace=True)\n",
    "print(df.columns)\n",
    "df.head()"
   ]
  },
  {
   "cell_type": "markdown",
   "metadata": {},
   "source": [
    "Vamos a tratar de predecir la humedad relativa de la tarde, en base a los datos de la mañana"
   ]
  },
  {
   "cell_type": "markdown",
   "metadata": {},
   "source": [
    "## Ahora a calibrar los modelos! No tan rápido...\n",
    "\n",
    "Antes de seguir tenemos que comentar algo, ¿Cómo podemos medir la calidad de un modelo? Ya mencionamos que compararlo con la predicción por la media es posible, pero ¿Cómo sabemos si nuestro modelo será bueno al tratar de predecir un valor que no estaba en nuestro data-set?.\n",
    "Para esto, existe la técnica del *hold-out set* la cual consiste en separar todo nuestro data set en dos conjuntos:\n",
    "1. Conjunto de entrenamiento (*training set*):\n",
    "Acá es donde nuestro modelo se entrena y se ajusta lo mejor posible.\n",
    "2. Conjunto de evaluación (*testing set*):\n",
    "Acá es donde medimos que tán buena será la *performance* de nuestro modelo ante nuevas observaciones:\n",
    "    * Medimos la capacidad de generalizar que tiene nuestro modelo!\n",
    "    \n",
    "En general, se reserva un 20% de las muestras para testear, y el otro 80% para entrenar los modelos.\n",
    "\n",
    "Esto último nos permite saber si estamos sobre ajustando el modelo: El modelo predice nuestras observaciones con muy alta presición, pero no tiene la capacidad de generalizar! \n",
    "\n",
    "Las siguientes imágenes nos muestran  que puede pasar, y que es lo que queremos:\n",
    "\n",
    "<img src='JustRight.png'>\n",
    "<img src='errors.png'>"
   ]
  },
  {
   "cell_type": "code",
   "execution_count": 130,
   "metadata": {},
   "outputs": [],
   "source": [
    "#seleccionemos nuestras features\n",
    "features = df[df.columns[1:-1]].values\n",
    "target = df[u'relative_humidity_3pm'].values"
   ]
  },
  {
   "cell_type": "code",
   "execution_count": 131,
   "metadata": {},
   "outputs": [],
   "source": [
    "### do the split!\n",
    "x=np.random.binomial(1,0.8,len(df))\n",
    "training_features=features[x==1]\n",
    "testing_features=features[x==0]\n",
    "training_target=target[x==1]\n",
    "testing_target=target[x==0]"
   ]
  },
  {
   "cell_type": "code",
   "execution_count": 132,
   "metadata": {},
   "outputs": [],
   "source": [
    "### importemos los modelos lineales\n",
    "from sklearn import linear_model as L_model"
   ]
  },
  {
   "cell_type": "code",
   "execution_count": 133,
   "metadata": {},
   "outputs": [],
   "source": [
    "L_model?"
   ]
  },
  {
   "cell_type": "code",
   "execution_count": 134,
   "metadata": {},
   "outputs": [
    {
     "data": {
      "text/plain": [
       "LinearRegression(copy_X=True, fit_intercept=True, n_jobs=1, normalize=False)"
      ]
     },
     "execution_count": 134,
     "metadata": {},
     "output_type": "execute_result"
    }
   ],
   "source": [
    "lineal = L_model.LinearRegression() ### generando una instancia de modelo lineal\n",
    "lineal.fit(training_features,training_target) ### entrenando el modelo"
   ]
  },
  {
   "cell_type": "code",
   "execution_count": 135,
   "metadata": {},
   "outputs": [
    {
     "name": "stdout",
     "output_type": "stream",
     "text": [
      "[ 12.69623258  53.86        34.69        81.89        69.67      ]\n",
      "[ 12.16661588  78.61035786  30.13602021  75.74891243  66.75725663]\n"
     ]
    }
   ],
   "source": [
    "predicted = lineal.predict(testing_features) ### generando las predicciones en el conjunto de entrenamiento\n",
    "print(testing_target[-5:])\n",
    "print(predicted[-5:])"
   ]
  },
  {
   "cell_type": "code",
   "execution_count": 136,
   "metadata": {},
   "outputs": [
    {
     "data": {
      "image/png": "[encoded data removed]",
      "text/plain": [
       "<matplotlib.figure.Figure at 0x7f2ada3299e8>"
      ]
     },
     "metadata": {},
     "output_type": "display_data"
    }
   ],
   "source": [
    "plt.plot(testing_target,predicted,'x',alpha=0.7)\n",
    "plt.show()"
   ]
  },
  {
   "cell_type": "code",
   "execution_count": 137,
   "metadata": {},
   "outputs": [
    {
     "data": {
      "text/plain": [
       "10.334845080719033"
      ]
     },
     "execution_count": 137,
     "metadata": {},
     "output_type": "execute_result"
    }
   ],
   "source": [
    "### medida del error RMSE:\n",
    "np.sqrt(((predicted-testing_target)**2).sum()/len(testing_target))"
   ]
  },
  {
   "cell_type": "markdown",
   "metadata": {},
   "source": [
    "### Un paso más allá:\n",
    "* Regresión Ridge\n",
    "* Regresión Lasso\n",
    "* Modelos lineales Generalizados (GLM)\n",
    "* Regresión no Lineal\n"
   ]
  },
  {
   "cell_type": "markdown",
   "metadata": {
    "collapsed": true
   },
   "source": [
    "tratemos con una regresión ridge"
   ]
  },
  {
   "cell_type": "code",
   "execution_count": 138,
   "metadata": {},
   "outputs": [
    {
     "data": {
      "text/plain": [
       "Ridge(alpha=0.01, copy_X=True, fit_intercept=True, max_iter=None,\n",
       "   normalize=False, random_state=None, solver='auto', tol=0.001)"
      ]
     },
     "execution_count": 138,
     "metadata": {},
     "output_type": "execute_result"
    }
   ],
   "source": [
    "ridge = L_model.Ridge(alpha=0.01) ### como escogemos alpha? alpha=1 => ridge=lineal\n",
    "ridge.fit(training_features,training_target)"
   ]
  },
  {
   "cell_type": "code",
   "execution_count": 139,
   "metadata": {},
   "outputs": [],
   "source": [
    "predicted = ridge.predict(testing_features)"
   ]
  },
  {
   "cell_type": "code",
   "execution_count": 140,
   "metadata": {},
   "outputs": [
    {
     "name": "stdout",
     "output_type": "stream",
     "text": [
      "[ 12.69623258  53.86        34.69        81.89        69.67      ]\n",
      "[ 12.16687505  78.61047103  30.1360313   75.74907735  66.75740301]\n"
     ]
    }
   ],
   "source": [
    "print(testing_target[-5:])\n",
    "print(predicted[-5:])"
   ]
  },
  {
   "cell_type": "code",
   "execution_count": 141,
   "metadata": {},
   "outputs": [
    {
     "data": {
      "image/png": "[encoded data removed]",
      "text/plain": [
       "<matplotlib.figure.Figure at 0x7f2ad812b748>"
      ]
     },
     "metadata": {},
     "output_type": "display_data"
    }
   ],
   "source": [
    "plt.plot(testing_target,predicted,'x',alpha=0.7)\n",
    "plt.show()"
   ]
  },
  {
   "cell_type": "code",
   "execution_count": 142,
   "metadata": {},
   "outputs": [
    {
     "data": {
      "text/plain": [
       "10.334830533283675"
      ]
     },
     "execution_count": 142,
     "metadata": {},
     "output_type": "execute_result"
    }
   ],
   "source": [
    "### medida del error RMSE:\n",
    "np.sqrt(((predicted-testing_target)**2).sum()/len(testing_target))"
   ]
  },
  {
   "cell_type": "markdown",
   "metadata": {},
   "source": [
    "Apenas aumento el rendimiento! probemos con otra regresión... \n",
    "\n",
    "*Regresión No Lineal*"
   ]
  },
  {
   "cell_type": "code",
   "execution_count": 172,
   "metadata": {},
   "outputs": [],
   "source": [
    "from sklearn.preprocessing import PolynomialFeatures as poly"
   ]
  },
  {
   "cell_type": "code",
   "execution_count": 179,
   "metadata": {},
   "outputs": [],
   "source": [
    "Pol=poly(degree=2,interaction_only=True)"
   ]
  },
  {
   "cell_type": "code",
   "execution_count": 180,
   "metadata": {},
   "outputs": [],
   "source": [
    "cuadratic=Pol.fit_transform(X=features)"
   ]
  },
  {
   "cell_type": "code",
   "execution_count": 213,
   "metadata": {},
   "outputs": [],
   "source": [
    "### do the split!\n",
    "x=np.random.binomial(1,0.8,len(df))\n",
    "poly_training_features=cuadratic[x==1]\n",
    "poly_testing_features=cuadratic[x==0]\n",
    "poly_training_target=target[x==1]\n",
    "poly_testing_target=target[x==0]"
   ]
  },
  {
   "cell_type": "code",
   "execution_count": 214,
   "metadata": {},
   "outputs": [],
   "source": [
    "ridge = L_model.Ridge(alpha=0.1)\n",
    "ridge.fit(poly_training_features,poly_training_target)\n",
    "poly_predicted = ridge.predict(poly_testing_features)"
   ]
  },
  {
   "cell_type": "code",
   "execution_count": 215,
   "metadata": {},
   "outputs": [
    {
     "data": {
      "image/png": "[encoded data removed]",
      "text/plain": [
       "<matplotlib.figure.Figure at 0x7f2ad7c91400>"
      ]
     },
     "metadata": {},
     "output_type": "display_data"
    }
   ],
   "source": [
    "plt.plot(poly_testing_target,poly_predicted,'x',alpha=0.7)\n",
    "plt.show()"
   ]
  },
  {
   "cell_type": "code",
   "execution_count": 216,
   "metadata": {},
   "outputs": [
    {
     "data": {
      "text/plain": [
       "8.9889569436152925"
      ]
     },
     "execution_count": 216,
     "metadata": {},
     "output_type": "execute_result"
    }
   ],
   "source": [
    "### medida del error RMSE:\n",
    "np.sqrt(((poly_predicted-poly_testing_target)**2).sum()/len(poly_testing_target))"
   ]
  },
  {
   "cell_type": "markdown",
   "metadata": {},
   "source": [
    "### Lección aumentar la complejidad del modelo no siempre es bueno!\n",
    "Lo anterior es sensible a la inicialización, hay que tener cuidado con eso"
   ]
  },
  {
   "cell_type": "code",
   "execution_count": null,
   "metadata": {},
   "outputs": [],
   "source": []
  }
 ],
 "metadata": {
  "kernelspec": {
   "display_name": "Python 3",
   "language": "python",
   "name": "python3"
  },
  "language_info": {
   "codemirror_mode": {
    "name": "ipython",
    "version": 3
   },
   "file_extension": ".py",
   "mimetype": "text/x-python",
   "name": "python",
   "nbconvert_exporter": "python",
   "pygments_lexer": "ipython3",
   "version": "3.5.2"
  }
 },
 "nbformat": 4,
 "nbformat_minor": 1
}
