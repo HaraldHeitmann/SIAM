{
 "cells": [
  {
   "cell_type": "markdown",
   "metadata": {},
   "source": [
    "## Análisis no supervisado: Clustering\n",
    "\n",
    "Imaginemos que tenemos un conjunto de datos, que queremos segmentar en distintas clases, pero ningun dato tiene etiqueta.\n",
    "\n",
    "¿Cómo logramos esto? Esá pregunta se resuelve con Clustering. Las aplicaciones varían  desde segmentación de cartera de clientes hasta análisis de imagenes médicas, por ejemplo segmentando diferentes tejidos en un escaneo *PET*. \n",
    "\n"
   ]
  },
  {
   "cell_type": "code",
   "execution_count": null,
   "metadata": {},
   "outputs": [],
   "source": []
  }
 ],
 "metadata": {
  "kernelspec": {
   "display_name": "Python 3",
   "language": "python",
   "name": "python3"
  },
  "language_info": {
   "codemirror_mode": {
    "name": "ipython",
    "version": 3
   },
   "file_extension": ".py",
   "mimetype": "text/x-python",
   "name": "python",
   "nbconvert_exporter": "python",
   "pygments_lexer": "ipython3",
   "version": "3.5.2"
  }
 },
 "nbformat": 4,
 "nbformat_minor": 2
}
