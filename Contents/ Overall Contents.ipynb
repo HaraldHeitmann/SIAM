{
 "cells": [
  {
   "cell_type": "markdown",
   "metadata": {},
   "source": [
    "### Estructura:\n",
    "\n",
    "* 1 mes, 2 clases en los bloques libre\n",
    "\n",
    "\n",
    "### Contenidos:\n",
    "\n",
    "\n",
    "* Manejo de datos:\n",
    "    * Numpy.\n",
    "    * Pandas.\n",
    "    * librerias para conectarse con bases de datos (MySQL /SQLServer).\n",
    "\n",
    "* Exploración de datos:\n",
    "    * Matplotlib\n",
    "    * Definición de buenos gráficos\n",
    "\n",
    "* Métodos de Evaluación:\n",
    "    * Holdout-Set.\n",
    "    * Cross-Validation.\n",
    "\n",
    "* Regresión:\n",
    "    * Lineal .\n",
    "    * Polinomial.\n",
    "    * Ridge/ Elastic-Net/ Lasso. \n",
    "    * SVM.\n",
    "    * Arboles de decision (extensiones).\n",
    "* Clasificación:\n",
    "    * K-NN.\n",
    "    * Redes Neuronales.\n",
    "    * Arboles de decision (extensiones).\n",
    "    * SVM.\n",
    "* Clusterización:\n",
    "    * K-Means.\n",
    "    * Hierarchical Models. \n",
    "    * Agregation Models.\n",
    "    * Clusterización Espectral.\n",
    "* Reducción de dimension:\n",
    "    * Low Variance Filter.\n",
    "    * High Correlation Filter.\n",
    "    * PCA.\n",
    "\n",
    "\n",
    "### Programa:\n",
    "\n",
    "1. \n",
    "\n",
    "2. \n",
    "\n",
    "\n",
    "\n",
    "\n",
    "\n"
   ]
  },
  {
   "cell_type": "code",
   "execution_count": 1,
   "metadata": {},
   "outputs": [
    {
     "data": {
      "text/plain": [
       "2"
      ]
     },
     "execution_count": 1,
     "metadata": {},
     "output_type": "execute_result"
    }
   ],
   "source": [
    "1+1"
   ]
  },
  {
   "cell_type": "code",
   "execution_count": null,
   "metadata": {
    "collapsed": true
   },
   "outputs": [],
   "source": []
  }
 ],
 "metadata": {
  "kernelspec": {
   "display_name": "Python 3",
   "language": "python",
   "name": "python3"
  },
  "language_info": {
   "codemirror_mode": {
    "name": "ipython",
    "version": 3
   },
   "file_extension": ".py",
   "mimetype": "text/x-python",
   "name": "python",
   "nbconvert_exporter": "python",
   "pygments_lexer": "ipython3",
   "version": "3.5.2"
  }
 },
 "nbformat": 4,
 "nbformat_minor": 2
}
