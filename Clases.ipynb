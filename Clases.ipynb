{
 "cells": [
  {
   "cell_type": "markdown",
   "metadata": {},
   "source": [
    "- Lenguaje : Python\n",
    "- tema de los notebooks\n",
    "- publico: general\n",
    "- n° clases: 8 (un mes)\n",
    "\n",
    "    1. Introducción\n",
    "\n",
    "        a. Motivación , Set W.S.,Base de datos.\n",
    "        b. Continuación.\n",
    "    \n",
    "    2. Análisis Supervisado\n",
    ".\n",
    "        a. Regresión (lineal,extensión,polinomial, suavización)\n",
    "        b. Clasificación (logistica, SVM,árboles de decisión,KNN,redes neuronales)\n",
    "\n",
    "    3. Análisis no supervisado\n",
    "\n",
    "        a. Clustering (k-means,agregación).\n",
    "        b. Reducción (low variance , high correlation,PCA)\n",
    "\n",
    "\n",
    "    4. Evaluación y Ejemplos\n",
    "\n",
    "        a. Métodos evaluación (holdout-set, cross-validation)\n",
    "        b. Problemas\n"
   ]
  },
  {
   "cell_type": "code",
   "execution_count": null,
   "metadata": {
    "collapsed": true
   },
   "outputs": [],
   "source": []
  }
 ],
 "metadata": {
  "kernelspec": {
   "display_name": "Python 2",
   "language": "python",
   "name": "python2"
  },
  "language_info": {
   "codemirror_mode": {
    "name": "ipython",
    "version": 2
   },
   "file_extension": ".py",
   "mimetype": "text/x-python",
   "name": "python",
   "nbconvert_exporter": "python",
   "pygments_lexer": "ipython2",
   "version": "2.7.12"
  }
 },
 "nbformat": 4,
 "nbformat_minor": 2
}
